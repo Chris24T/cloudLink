{
 "cells": [
  {
   "cell_type": "code",
   "execution_count": 19,
   "metadata": {
    "scrolled": true
   },
   "outputs": [
    {
     "name": "stdout",
     "output_type": "stream",
     "text": [
      "Defaulting to user installation because normal site-packages is not writeable\n",
      "Requirement already satisfied: numpy in /home/chris/.local/lib/python3.8/site-packages (1.19.4)\n",
      "\u001b[33mWARNING: You are using pip version 20.1.1; however, version 20.3 is available.\n",
      "You should consider upgrading via the '/usr/bin/python3 -m pip install --upgrade pip' command.\u001b[0m\n",
      "Defaulting to user installation because normal site-packages is not writeable\n",
      "Requirement already satisfied: pandas in /home/chris/.local/lib/python3.8/site-packages (1.1.4)\n",
      "Requirement already satisfied: python-dateutil>=2.7.3 in /usr/lib/python3/dist-packages (from pandas) (2.7.3)\n",
      "Requirement already satisfied: numpy>=1.15.4 in /home/chris/.local/lib/python3.8/site-packages (from pandas) (1.19.4)\n",
      "Requirement already satisfied: pytz>=2017.2 in /usr/lib/python3/dist-packages (from pandas) (2019.3)\n",
      "\u001b[33mWARNING: You are using pip version 20.1.1; however, version 20.3 is available.\n",
      "You should consider upgrading via the '/usr/bin/python3 -m pip install --upgrade pip' command.\u001b[0m\n",
      "Defaulting to user installation because normal site-packages is not writeable\n",
      "Requirement already satisfied: matplotlib in /home/chris/.local/lib/python3.8/site-packages (3.3.3)\n",
      "Requirement already satisfied: pillow>=6.2.0 in /usr/lib/python3/dist-packages (from matplotlib) (7.0.0)\n",
      "Requirement already satisfied: pyparsing!=2.0.4,!=2.1.2,!=2.1.6,>=2.0.3 in /home/chris/.local/lib/python3.8/site-packages (from matplotlib) (2.4.7)\n",
      "Requirement already satisfied: cycler>=0.10 in /home/chris/.local/lib/python3.8/site-packages (from matplotlib) (0.10.0)\n",
      "Requirement already satisfied: kiwisolver>=1.0.1 in /home/chris/.local/lib/python3.8/site-packages (from matplotlib) (1.3.1)\n",
      "Requirement already satisfied: numpy>=1.15 in /home/chris/.local/lib/python3.8/site-packages (from matplotlib) (1.19.4)\n",
      "Requirement already satisfied: python-dateutil>=2.1 in /usr/lib/python3/dist-packages (from matplotlib) (2.7.3)\n",
      "Requirement already satisfied: six in /usr/lib/python3/dist-packages (from cycler>=0.10->matplotlib) (1.14.0)\n",
      "\u001b[33mWARNING: You are using pip version 20.1.1; however, version 20.3 is available.\n",
      "You should consider upgrading via the '/usr/bin/python3 -m pip install --upgrade pip' command.\u001b[0m\n",
      "Defaulting to user installation because normal site-packages is not writeable\n",
      "Collecting seaborn\n",
      "  Downloading seaborn-0.11.0-py3-none-any.whl (283 kB)\n",
      "\u001b[K     |████████████████████████████████| 283 kB 7.6 MB/s eta 0:00:01\n",
      "\u001b[?25hRequirement already satisfied: numpy>=1.15 in /home/chris/.local/lib/python3.8/site-packages (from seaborn) (1.19.4)\n",
      "Collecting scipy>=1.0\n",
      "  Downloading scipy-1.5.4-cp38-cp38-manylinux1_x86_64.whl (25.8 MB)\n",
      "\u001b[K     |████████████████████████████████| 25.8 MB 99 kB/s s eta 0:00:01\n",
      "\u001b[?25hRequirement already satisfied: pandas>=0.23 in /home/chris/.local/lib/python3.8/site-packages (from seaborn) (1.1.4)\n",
      "Requirement already satisfied: matplotlib>=2.2 in /home/chris/.local/lib/python3.8/site-packages (from seaborn) (3.3.3)\n",
      "Requirement already satisfied: pytz>=2017.2 in /usr/lib/python3/dist-packages (from pandas>=0.23->seaborn) (2019.3)\n",
      "Requirement already satisfied: python-dateutil>=2.7.3 in /usr/lib/python3/dist-packages (from pandas>=0.23->seaborn) (2.7.3)\n",
      "Requirement already satisfied: pyparsing!=2.0.4,!=2.1.2,!=2.1.6,>=2.0.3 in /home/chris/.local/lib/python3.8/site-packages (from matplotlib>=2.2->seaborn) (2.4.7)\n",
      "Requirement already satisfied: cycler>=0.10 in /home/chris/.local/lib/python3.8/site-packages (from matplotlib>=2.2->seaborn) (0.10.0)\n",
      "Requirement already satisfied: kiwisolver>=1.0.1 in /home/chris/.local/lib/python3.8/site-packages (from matplotlib>=2.2->seaborn) (1.3.1)\n",
      "Requirement already satisfied: pillow>=6.2.0 in /usr/lib/python3/dist-packages (from matplotlib>=2.2->seaborn) (7.0.0)\n",
      "Requirement already satisfied: six in /usr/lib/python3/dist-packages (from cycler>=0.10->matplotlib>=2.2->seaborn) (1.14.0)\n",
      "Installing collected packages: scipy, seaborn\n",
      "Successfully installed scipy-1.5.4 seaborn-0.11.0\n",
      "\u001b[33mWARNING: You are using pip version 20.1.1; however, version 20.3 is available.\n",
      "You should consider upgrading via the '/usr/bin/python3 -m pip install --upgrade pip' command.\u001b[0m\n"
     ]
    }
   ],
   "source": [
    "!pip install numpy\n",
    "!pip install pandas\n",
    "!pip install matplotlib\n",
    "!pip install seaborn"
   ]
  },
  {
   "cell_type": "code",
   "execution_count": 31,
   "metadata": {
    "scrolled": true
   },
   "outputs": [
    {
     "data": {
      "text/html": [
       "<div>\n",
       "<style scoped>\n",
       "    .dataframe tbody tr th:only-of-type {\n",
       "        vertical-align: middle;\n",
       "    }\n",
       "\n",
       "    .dataframe tbody tr th {\n",
       "        vertical-align: top;\n",
       "    }\n",
       "\n",
       "    .dataframe thead th {\n",
       "        text-align: right;\n",
       "    }\n",
       "</style>\n",
       "<table border=\"1\" class=\"dataframe\">\n",
       "  <thead>\n",
       "    <tr style=\"text-align: right;\">\n",
       "      <th></th>\n",
       "      <th>sepal_length</th>\n",
       "      <th>sepal_width</th>\n",
       "      <th>petal_length</th>\n",
       "      <th>petal_width</th>\n",
       "      <th>species</th>\n",
       "    </tr>\n",
       "  </thead>\n",
       "  <tbody>\n",
       "    <tr>\n",
       "      <th>0</th>\n",
       "      <td>4.6</td>\n",
       "      <td>3.6</td>\n",
       "      <td>1.0</td>\n",
       "      <td>0.2</td>\n",
       "      <td>Iris-setosa</td>\n",
       "    </tr>\n",
       "    <tr>\n",
       "      <th>1</th>\n",
       "      <td>5.1</td>\n",
       "      <td>3.3</td>\n",
       "      <td>1.7</td>\n",
       "      <td>0.5</td>\n",
       "      <td>Iris-setosa</td>\n",
       "    </tr>\n",
       "    <tr>\n",
       "      <th>2</th>\n",
       "      <td>4.8</td>\n",
       "      <td>3.4</td>\n",
       "      <td>1.9</td>\n",
       "      <td>0.2</td>\n",
       "      <td>Iris-setosa</td>\n",
       "    </tr>\n",
       "    <tr>\n",
       "      <th>3</th>\n",
       "      <td>5.0</td>\n",
       "      <td>3.0</td>\n",
       "      <td>1.6</td>\n",
       "      <td>0.2</td>\n",
       "      <td>Iris-setosa</td>\n",
       "    </tr>\n",
       "    <tr>\n",
       "      <th>4</th>\n",
       "      <td>5.0</td>\n",
       "      <td>3.4</td>\n",
       "      <td>1.6</td>\n",
       "      <td>0.4</td>\n",
       "      <td>Iris-setosa</td>\n",
       "    </tr>\n",
       "    <tr>\n",
       "      <th>...</th>\n",
       "      <td>...</td>\n",
       "      <td>...</td>\n",
       "      <td>...</td>\n",
       "      <td>...</td>\n",
       "      <td>...</td>\n",
       "    </tr>\n",
       "    <tr>\n",
       "      <th>123</th>\n",
       "      <td>6.7</td>\n",
       "      <td>3.0</td>\n",
       "      <td>5.2</td>\n",
       "      <td>2.3</td>\n",
       "      <td>Iris-virginica</td>\n",
       "    </tr>\n",
       "    <tr>\n",
       "      <th>124</th>\n",
       "      <td>6.3</td>\n",
       "      <td>2.5</td>\n",
       "      <td>5.0</td>\n",
       "      <td>1.9</td>\n",
       "      <td>Iris-virginica</td>\n",
       "    </tr>\n",
       "    <tr>\n",
       "      <th>125</th>\n",
       "      <td>6.5</td>\n",
       "      <td>3.0</td>\n",
       "      <td>5.2</td>\n",
       "      <td>2.0</td>\n",
       "      <td>Iris-virginica</td>\n",
       "    </tr>\n",
       "    <tr>\n",
       "      <th>126</th>\n",
       "      <td>6.2</td>\n",
       "      <td>3.4</td>\n",
       "      <td>5.4</td>\n",
       "      <td>2.3</td>\n",
       "      <td>Iris-virginica</td>\n",
       "    </tr>\n",
       "    <tr>\n",
       "      <th>127</th>\n",
       "      <td>5.9</td>\n",
       "      <td>3.0</td>\n",
       "      <td>5.1</td>\n",
       "      <td>1.8</td>\n",
       "      <td>Iris-virginica</td>\n",
       "    </tr>\n",
       "  </tbody>\n",
       "</table>\n",
       "<p>128 rows × 5 columns</p>\n",
       "</div>"
      ],
      "text/plain": [
       "     sepal_length  sepal_width  petal_length  petal_width         species\n",
       "0             4.6          3.6           1.0          0.2     Iris-setosa\n",
       "1             5.1          3.3           1.7          0.5     Iris-setosa\n",
       "2             4.8          3.4           1.9          0.2     Iris-setosa\n",
       "3             5.0          3.0           1.6          0.2     Iris-setosa\n",
       "4             5.0          3.4           1.6          0.4     Iris-setosa\n",
       "..            ...          ...           ...          ...             ...\n",
       "123           6.7          3.0           5.2          2.3  Iris-virginica\n",
       "124           6.3          2.5           5.0          1.9  Iris-virginica\n",
       "125           6.5          3.0           5.2          2.0  Iris-virginica\n",
       "126           6.2          3.4           5.4          2.3  Iris-virginica\n",
       "127           5.9          3.0           5.1          1.8  Iris-virginica\n",
       "\n",
       "[128 rows x 5 columns]"
      ]
     },
     "execution_count": 31,
     "metadata": {},
     "output_type": "execute_result"
    }
   ],
   "source": [
    "import numpy as np\n",
    "import pandas as pd\n",
    "import seaborn as sns\n",
    "import matplotlib.pyplot as plt\n",
    "filename = \"iris\"\n",
    "data = pd.read_csv('iris', header=None)\n",
    "data.columns = [\"sepal_length\",\"sepal_width\",\n",
    "                'petal_length','petal_width','species']\n",
    "data.dropna(how='all', inplace=True)\n",
    "data.head()\n",
    "\n",
    "data"
   ]
  },
  {
   "cell_type": "code",
   "execution_count": 3,
   "metadata": {},
   "outputs": [
    {
     "data": {
      "text/plain": [
       "[array([(4.6, 3.6, 1. , 0.2, b'Iris-setosa'),\n",
       "        (5.1, 3.3, 1.7, 0.5, b'Iris-setosa'),\n",
       "        (4.8, 3.4, 1.9, 0.2, b'Iris-setosa'),\n",
       "        (5. , 3. , 1.6, 0.2, b'Iris-setosa'),\n",
       "        (5. , 3.4, 1.6, 0.4, b'Iris-setosa'),\n",
       "        (5.2, 3.5, 1.5, 0.2, b'Iris-setosa'),\n",
       "        (5.2, 3.4, 1.4, 0.2, b'Iris-setosa'),\n",
       "        (4.7, 3.2, 1.6, 0.2, b'Iris-setosa'),\n",
       "        (4.8, 3.1, 1.6, 0.2, b'Iris-setosa'),\n",
       "        (5.4, 3.4, 1.5, 0.4, b'Iris-setosa'),\n",
       "        (5.2, 4.1, 1.5, 0.1, b'Iris-setosa'),\n",
       "        (5.5, 4.2, 1.4, 0.2, b'Iris-setosa'),\n",
       "        (4.9, 3.1, 1.5, 0.1, b'Iris-setosa'),\n",
       "        (5. , 3.2, 1.2, 0.2, b'Iris-setosa'),\n",
       "        (5.5, 3.5, 1.3, 0.2, b'Iris-setosa'),\n",
       "        (4.9, 3.1, 1.5, 0.1, b'Iris-setosa'),\n",
       "        (4.4, 3. , 1.3, 0.2, b'Iris-setosa'),\n",
       "        (5.1, 3.4, 1.5, 0.2, b'Iris-setosa'),\n",
       "        (5. , 3.5, 1.3, 0.3, b'Iris-setosa'),\n",
       "        (4.5, 2.3, 1.3, 0.3, b'Iris-setosa'),\n",
       "        (4.4, 3.2, 1.3, 0.2, b'Iris-setosa'),\n",
       "        (5. , 3.5, 1.6, 0.6, b'Iris-setosa'),\n",
       "        (5.1, 3.8, 1.9, 0.4, b'Iris-setosa'),\n",
       "        (4.8, 3. , 1.4, 0.3, b'Iris-setosa'),\n",
       "        (5.1, 3.8, 1.6, 0.2, b'Iris-setosa'),\n",
       "        (4.6, 3.2, 1.4, 0.2, b'Iris-setosa'),\n",
       "        (5.3, 3.7, 1.5, 0.2, b'Iris-setosa'),\n",
       "        (5. , 3.3, 1.4, 0.2, b'Iris-setosa')],\n",
       "       dtype=[('sepal_length', '<f8'), ('sepal_width', '<f8'), ('petal_length', '<f8'), ('petal_width', '<f8'), ('label', 'S15')]),\n",
       " array([(7. , 3.2, 4.7, 1.4, b'Iris-versicolor'),\n",
       "        (6.4, 3.2, 4.5, 1.5, b'Iris-versicolor'),\n",
       "        (6.9, 3.1, 4.9, 1.5, b'Iris-versicolor'),\n",
       "        (5.5, 2.3, 4. , 1.3, b'Iris-versicolor'),\n",
       "        (6.5, 2.8, 4.6, 1.5, b'Iris-versicolor'),\n",
       "        (5.7, 2.8, 4.5, 1.3, b'Iris-versicolor'),\n",
       "        (6.3, 3.3, 4.7, 1.6, b'Iris-versicolor'),\n",
       "        (4.9, 2.4, 3.3, 1. , b'Iris-versicolor'),\n",
       "        (6.6, 2.9, 4.6, 1.3, b'Iris-versicolor'),\n",
       "        (5.2, 2.7, 3.9, 1.4, b'Iris-versicolor'),\n",
       "        (5. , 2. , 3.5, 1. , b'Iris-versicolor'),\n",
       "        (5.9, 3. , 4.2, 1.5, b'Iris-versicolor'),\n",
       "        (6. , 2.2, 4. , 1. , b'Iris-versicolor'),\n",
       "        (6.1, 2.9, 4.7, 1.4, b'Iris-versicolor'),\n",
       "        (5.6, 2.9, 3.6, 1.3, b'Iris-versicolor'),\n",
       "        (6.7, 3.1, 4.4, 1.4, b'Iris-versicolor'),\n",
       "        (5.6, 3. , 4.5, 1.5, b'Iris-versicolor'),\n",
       "        (5.8, 2.7, 4.1, 1. , b'Iris-versicolor'),\n",
       "        (6.2, 2.2, 4.5, 1.5, b'Iris-versicolor'),\n",
       "        (5.6, 2.5, 3.9, 1.1, b'Iris-versicolor'),\n",
       "        (5.9, 3.2, 4.8, 1.8, b'Iris-versicolor'),\n",
       "        (6.1, 2.8, 4. , 1.3, b'Iris-versicolor'),\n",
       "        (6.3, 2.5, 4.9, 1.5, b'Iris-versicolor'),\n",
       "        (6.1, 2.8, 4.7, 1.2, b'Iris-versicolor'),\n",
       "        (6.4, 2.9, 4.3, 1.3, b'Iris-versicolor'),\n",
       "        (6.6, 3. , 4.4, 1.4, b'Iris-versicolor'),\n",
       "        (6.8, 2.8, 4.8, 1.4, b'Iris-versicolor'),\n",
       "        (6.7, 3. , 5. , 1.7, b'Iris-versicolor'),\n",
       "        (6. , 2.9, 4.5, 1.5, b'Iris-versicolor'),\n",
       "        (5.7, 2.6, 3.5, 1. , b'Iris-versicolor'),\n",
       "        (5.5, 2.4, 3.8, 1.1, b'Iris-versicolor'),\n",
       "        (5.5, 2.4, 3.7, 1. , b'Iris-versicolor'),\n",
       "        (5.8, 2.7, 3.9, 1.2, b'Iris-versicolor'),\n",
       "        (6. , 2.7, 5.1, 1.6, b'Iris-versicolor'),\n",
       "        (5.4, 3. , 4.5, 1.5, b'Iris-versicolor'),\n",
       "        (6. , 3.4, 4.5, 1.6, b'Iris-versicolor'),\n",
       "        (6.7, 3.1, 4.7, 1.5, b'Iris-versicolor'),\n",
       "        (6.3, 2.3, 4.4, 1.3, b'Iris-versicolor'),\n",
       "        (5.6, 3. , 4.1, 1.3, b'Iris-versicolor'),\n",
       "        (5.5, 2.5, 4. , 1.3, b'Iris-versicolor'),\n",
       "        (5.5, 2.6, 4.4, 1.2, b'Iris-versicolor'),\n",
       "        (6.1, 3. , 4.6, 1.4, b'Iris-versicolor'),\n",
       "        (5.8, 2.6, 4. , 1.2, b'Iris-versicolor'),\n",
       "        (5. , 2.3, 3.3, 1. , b'Iris-versicolor'),\n",
       "        (5.6, 2.7, 4.2, 1.3, b'Iris-versicolor'),\n",
       "        (5.7, 3. , 4.2, 1.2, b'Iris-versicolor'),\n",
       "        (5.7, 2.9, 4.2, 1.3, b'Iris-versicolor'),\n",
       "        (6.2, 2.9, 4.3, 1.3, b'Iris-versicolor'),\n",
       "        (5.1, 2.5, 3. , 1.1, b'Iris-versicolor'),\n",
       "        (5.7, 2.8, 4.1, 1.3, b'Iris-versicolor')],\n",
       "       dtype=[('sepal_length', '<f8'), ('sepal_width', '<f8'), ('petal_length', '<f8'), ('petal_width', '<f8'), ('label', 'S15')]),\n",
       " array([(6.3, 3.3, 6. , 2.5, b'Iris-virginica'),\n",
       "        (5.8, 2.7, 5.1, 1.9, b'Iris-virginica'),\n",
       "        (7.1, 3. , 5.9, 2.1, b'Iris-virginica'),\n",
       "        (6.3, 2.9, 5.6, 1.8, b'Iris-virginica'),\n",
       "        (6.5, 3. , 5.8, 2.2, b'Iris-virginica'),\n",
       "        (7.6, 3. , 6.6, 2.1, b'Iris-virginica'),\n",
       "        (4.9, 2.5, 4.5, 1.7, b'Iris-virginica'),\n",
       "        (7.3, 2.9, 6.3, 1.8, b'Iris-virginica'),\n",
       "        (6.7, 2.5, 5.8, 1.8, b'Iris-virginica'),\n",
       "        (7.2, 3.6, 6.1, 2.5, b'Iris-virginica'),\n",
       "        (6.5, 3.2, 5.1, 2. , b'Iris-virginica'),\n",
        "        (6.4, 2.7, 5.3, 1.9, b'Iris-virginica'),\n",
       "        (6.8, 3. , 5.5, 2.1, b'Iris-virginica'),\n",
       "        (5.7, 2.5, 5. , 2. , b'Iris-virginica'),\n",
       "        (5.8, 2.8, 5.1, 2.4, b'Iris-virginica'),\n",
       "        (6.4, 3.2, 5.3, 2.3, b'Iris-virginica'),\n",
       "        (6.5, 3. , 5.5, 1.8, b'Iris-virginica'),\n",
       "        (7.7, 3.8, 6.7, 2.2, b'Iris-virginica'),\n",
       "        (7.7, 2.6, 6.9, 2.3, b'Iris-virginica'),\n",
       "        (6. , 2.2, 5. , 1.5, b'Iris-virginica'),\n",
       "        (6.9, 3.2, 5.7, 2.3, b'Iris-virginica'),\n",
       "        (5.6, 2.8, 4.9, 2. , b'Iris-virginica'),\n",
       "        (7.7, 2.8, 6.7, 2. , b'Iris-virginica'),\n",
       "        (6.3, 2.7, 4.9, 1.8, b'Iris-virginica'),\n",
       "        (6.7, 3.3, 5.7, 2.1, b'Iris-virginica'),\n",
       "        (7.2, 3.2, 6. , 1.8, b'Iris-virginica'),\n",
       "        (6.2, 2.8, 4.8, 1.8, b'Iris-virginica'),\n",
       "        (6.1, 3. , 4.9, 1.8, b'Iris-virginica'),\n",
       "        (6.4, 2.8, 5.6, 2.1, b'Iris-virginica'),\n",
       "        (7.2, 3. , 5.8, 1.6, b'Iris-virginica'),\n",
       "        (7.4, 2.8, 6.1, 1.9, b'Iris-virginica'),\n",
       "        (7.9, 3.8, 6.4, 2. , b'Iris-virginica'),\n",
       "        (6.4, 2.8, 5.6, 2.2, b'Iris-virginica'),\n",
       "        (6.3, 2.8, 5.1, 1.5, b'Iris-virginica'),\n",
       "        (6.1, 2.6, 5.6, 1.4, b'Iris-virginica'),\n",
       "        (7.7, 3. , 6.1, 2.3, b'Iris-virginica'),\n",
       "        (6.3, 3.4, 5.6, 2.4, b'Iris-virginica'),\n",
       "        (6.4, 3.1, 5.5, 1.8, b'Iris-virginica'),\n",
       "        (6. , 3. , 4.8, 1.8, b'Iris-virginica'),\n",
       "        (6.9, 3.1, 5.4, 2.1, b'Iris-virginica'),\n",
       "        (6.7, 3.1, 5.6, 2.4, b'Iris-virginica'),\n",
       "        (6.9, 3.1, 5.1, 2.3, b'Iris-virginica'),\n",
       "        (5.8, 2.7, 5.1, 1.9, b'Iris-virginica'),\n",
       "        (6.8, 3.2, 5.9, 2.3, b'Iris-virginica'),\n",
       "        (6.7, 3.3, 5.7, 2.5, b'Iris-virginica'),\n",
       "        (6.7, 3. , 5.2, 2.3, b'Iris-virginica'),\n",
       "        (6.3, 2.5, 5. , 1.9, b'Iris-virginica'),\n",
       "        (6.5, 3. , 5.2, 2. , b'Iris-virginica'),\n",
       "        (6.2, 3.4, 5.4, 2.3, b'Iris-virginica'),\n",
       "        (5.9, 3. , 5.1, 1.8, b'Iris-virginica')],\n",
       "       dtype=[('sepal_length', '<f8'), ('sepal_width', '<f8'), ('petal_length', '<f8'), ('petal_width', '<f8'), ('label', 'S15')])]"
      ]
     },
     "execution_count": 3,
     "metadata": {},
     "output_type": "execute_result"
    }
   ],
   "source": [
    "keys = np.unique(data['label'])\n",
    "\n",
    "grp = [[],[],[]]\n",
    "counter = 0\n",
    "for key in keys:\n",
    "    grp[counter] = data[data[\"label\"]==key]\n",
    "    counter +=1\n",
    "\n",
    "grp"
   ]
  },
  {
   "cell_type": "code",
   "execution_count": 32,
   "metadata": {
    "scrolled": true
   },
   "outputs": [
    {
     "data": {
      "text/plain": [
       "<AxesSubplot:xlabel='sepal_length', ylabel='sepal_width'>"
      ]
     },
     "execution_count": 32,
     "metadata": {},
     "output_type": "execute_result"
    },
    {
     "data": {
      "image/png": "[encoded data removed]",
      "text/plain": [
       "<Figure size 864x576 with 1 Axes>"
      ]
     },
     "metadata": {},
     "output_type": "display_data"
    }
   ],
   "source": [
    "plt.style.use(\"ggplot\")\n",
    "plt.rcParams[\"figure.figsize\"] = (12,8)\n",
    "sns.scatterplot(x = data.sepal_length, y=data.sepal_width,\n",
    "               hue = data.species, style=data.species)"
   ]
  },
  {
   "cell_type": "code",
   "execution_count": 16,
   "metadata": {},
   "outputs": [
    {
     "ename": "AttributeError",
     "evalue": "'numpy.ndarray' object has no attribute 'columns'",
     "output_type": "error",
     "traceback": [
      "\u001b[0;31m---------------------------------------------------------------------------\u001b[0m",
      "\u001b[0;31mAttributeError\u001b[0m                            Traceback (most recent call last)",
      "\u001b[0;32m<ipython-input-16-9c7523ee134c>\u001b[0m in \u001b[0;36m<module>\u001b[0;34m\u001b[0m\n\u001b[0;32m----> 1\u001b[0;31m data.columns = [\"sepal_length\",\"sepal_width\",\n\u001b[0m\u001b[1;32m      2\u001b[0m                 'petal_length','petal_width','species']\n\u001b[1;32m      3\u001b[0m \u001b[0mdata\u001b[0m\u001b[0;34m.\u001b[0m\u001b[0mdropna\u001b[0m\u001b[0;34m(\u001b[0m\u001b[0mhow\u001b[0m\u001b[0;34m=\u001b[0m\u001b[0;34m'all'\u001b[0m\u001b[0;34m,\u001b[0m \u001b[0minplace\u001b[0m\u001b[0;34m=\u001b[0m\u001b[0;32mTrue\u001b[0m\u001b[0;34m)\u001b[0m\u001b[0;34m\u001b[0m\u001b[0;34m\u001b[0m\u001b[0m\n\u001b[1;32m      4\u001b[0m \u001b[0mdata\u001b[0m\u001b[0;34m.\u001b[0m\u001b[0mhead\u001b[0m\u001b[0;34m(\u001b[0m\u001b[0;34m)\u001b[0m\u001b[0;34m\u001b[0m\u001b[0;34m\u001b[0m\u001b[0m\n",
      "\u001b[0;31mAttributeError\u001b[0m: 'numpy.ndarray' object has no attribute 'columns'"
     ]
    }
   ],
   "source": []
  },
  {
   "cell_type": "code",
   "execution_count": 33,
   "metadata": {},
   "outputs": [],
   "source": [
    "def standardize_data(arr):\n",
    "         \n",
    "    '''\n",
    "    This function standardize an array, its substracts mean value, \n",
    "    and then divide the standard deviation.\n",
    "    \n",
    "    param 1: array \n",
    "    return: standardized array\n",
    "    '''    \n",
    "    rows, columns = arr.shape\n",
    "    \n",
    "    standardizedArray = np.zeros(shape=(rows, columns))\n",
    "    tempArray = np.zeros(rows)\n",
    "    \n",
    "    for column in range(columns):\n",
    "        \n",
    "        mean = np.mean(X[:,column])\n",
    "        std = np.std(X[:,column])\n",
    "        tempArray = np.empty(0)\n",
    "        \n",
    "        for element in X[:,column]:\n",
    "            \n",
    "            tempArray = np.append(tempArray, ((element - mean) / std))\n",
    " \n",
    "        standardizedArray[:,column] = tempArray\n",
    "    \n",
    "    return standardizedArray"
   ]
  },
  {
   "cell_type": "code",
   "execution_count": 36,
   "metadata": {},
   "outputs": [],
   "source": [
    "X = data.iloc[:, 0:4].values\n",
    "y = data.species.values\n",
    "\n",
    "X = standardize_data(X)"
   ]
  },
  {
   "cell_type": "code",
   "execution_count": 37,
   "metadata": {},
   "outputs": [],
   "source": [
    "covariance_matrix = np.cov(X.T)\n",
    "\n"
   ]
  },
  {
   "cell_type": "code",
   "execution_count": 38,
   "metadata": {},
   "outputs": [
    {
     "name": "stdout",
     "output_type": "stream",
     "text": [
      "Eigenvector: \n",
      " [[ 0.54195468  0.28223544  0.7361652   0.29101388]\n",
      " [-0.15960156  0.95880131 -0.20391757 -0.1168119 ]\n",
      " [ 0.59279435 -0.0224079  -0.11270889 -0.7971132 ]\n",
      " [ 0.57394018  0.02326138 -0.63543303  0.51601982]] \n",
      "\n",
      "Eigenvalues: \n",
      " [2.81014583 1.00975107 0.18401015 0.02758902] \n",
      "\n"
     ]
    }
   ],
   "source": [
    "eigen_values, eigen_vectors = np.linalg.eig(covariance_matrix)\n",
    "print(\"Eigenvector: \\n\",eigen_vectors,\"\\n\")\n",
    "print(\"Eigenvalues: \\n\", eigen_values, \"\\n\")"
   ]
  },
  {
   "cell_type": "code",
   "execution_count": 39,
   "metadata": {},
   "outputs": [
    {
     "name": "stdout",
     "output_type": "stream",
     "text": [
      "[69.70478903558468, 25.046559631306952, 4.564314274752067, 0.6843370583563083]\n"
     ]
    }
   ],
   "source": [
    "variance_explained = []\n",
    "for i in eigen_values:\n",
    "     variance_explained.append((i/sum(eigen_values))*100)\n",
    "        \n",
    "print(variance_explained)"
   ]
  },
  {
   "cell_type": "code",
   "execution_count": 40,
   "metadata": {},
   "outputs": [
    {
     "name": "stdout",
     "output_type": "stream",
     "text": [
      "[ 69.70478904  94.75134867  99.31566294 100.        ]\n"
     ]
    }
   ],
   "source": [
    "cumulative_variance_explained = np.cumsum(variance_explained)\n",
    "print(cumulative_variance_explained)"
   ]
  },
  {
   "cell_type": "code",
   "execution_count": 41,
   "metadata": {},
   "outputs": [
    {
     "data": {
      "text/plain": [
       "Text(0.5, 1.0, 'Explained variance vs Number of components')"
      ]
     },
     "execution_count": 41,
     "metadata": {},
     "output_type": "execute_result"
    },
    {
     "data": {
      "image/png": "[encoded data removed]",
      "text/plain": [
       "<Figure size 864x576 with 1 Axes>"
      ]
     },
     "metadata": {},
     "output_type": "display_data"
    }
   ],
   "source": [
    "sns.lineplot(x = [1,2,3,4], y=cumulative_variance_explained)\n",
    "plt.xlabel(\"Number of components\")\n",
    "plt.ylabel(\"Cumulative explained variance\")\n",
    "plt.title(\"Explained variance vs Number of components\")"
   ]
  },
  {
   "cell_type": "code",
   "execution_count": 42,
   "metadata": {},
   "outputs": [
    {
     "name": "stdout",
     "output_type": "stream",
     "text": [
      "[[ 0.54195468  0.28223544]\n",
      " [-0.15960156  0.95880131]\n",
      " [ 0.59279435 -0.0224079 ]\n",
      " [ 0.57394018  0.02326138]]\n"
     ]
    }
   ],
   "source": [
    "projection_matrix = (eigen_vectors.T[:][:2]).T\n",
    "print(projection_matrix)"
   ]
  },
  {
   "cell_type": "code",
   "execution_count": 48,
   "metadata": {
    "scrolled": true
   },
   "outputs": [
    {
     "name": "stdout",
     "output_type": "stream",
     "text": [
      "[[-3.30547862  1.02616785]\n",
      " [-2.34127585  0.47411931]\n",
      " [-2.75539837  0.59855201]\n",
      " [-2.5702957  -0.29748886]\n",
      " [-2.56815346  0.6796954 ]\n",
      " [-2.67440399  0.98739866]\n",
      " [-2.67116104  0.7461654 ]\n",
      " [-2.85355109  0.08234148]\n",
      " [-2.74566953 -0.12514777]\n",
      " [-2.33533074  0.82169219]\n",
      " [-2.99858946  2.4399058 ]\n",
      " [-2.79179859  2.79270915]\n",
      " [-2.79717332 -0.09191277]\n",
      " [-2.79965968  0.19340256]\n",
      " [-2.54621988  1.09565144]\n",
      " [-2.79717332 -0.09191277]\n",
      " [-3.08668835 -0.50416537]\n",
      " [-2.70150696  0.70961309]\n",
      " [-2.80183151  0.92322795]\n",
      " [-2.65462131 -2.16416176]\n",
      " [-3.16746694 -0.01889055]\n",
      " [-2.44484334  0.92896743]\n",
      " [-2.55077933  1.68118075]\n",
      " [-2.69772322 -0.36165957]\n",
      " [-2.82591779  1.67875858]\n",
      " [-2.99533605  0.05000162]\n",
      " [-2.68769031  1.50782164]\n",
      " [-2.76575628  0.43323167]\n",
      " [ 0.83250432  0.88702825]\n",
      " [ 0.43510773  0.6822649 ]\n",
      " [ 0.96154375  0.60975169]\n",
      " [-0.15825018 -1.8174191 ]\n",
      " [ 0.70130352 -0.25454073]\n",
      " [-0.03948038 -0.54095648]\n",
      " [ 0.48336857  0.89026316]\n",
      " [-1.10916664 -1.78579353]\n",
      " [ 0.56470707  0.01661022]\n",
      " [-0.4775808  -0.94759248]\n",
      " [-0.8058245  -2.7240033 ]\n",
      " [ 0.06698594  0.02546173]\n",
      " [-0.02594868 -1.89426763]\n",
      " [ 0.34624179 -0.15721742]\n",
       " [-0.48167907 -0.32082989]\n",
      " [ 0.55897777  0.54315881]\n",
      " [-0.02405182 -0.0841952 ]\n",
      " [-0.32573334 -0.75278106]\n",
      " [ 0.70401613 -1.81440551]\n",
      " [-0.37238227 -1.30222659]\n",
      " [ 0.45463456  0.51226358]\n",
      " [ 0.04475695 -0.39334309]\n",
      " [ 0.79892591 -1.05696172]\n",
      " [ 0.22293167 -0.40648944]\n",
      " [ 0.3182835  -0.04947365]\n",
      " [ 0.53187479  0.26537324]\n",
      " [ 0.89622331 -0.15522186]\n",
      " [ 1.06779427  0.30204843]\n",
      " [ 0.28630654 -0.18623997]\n",
      " [-0.57571439 -1.02214173]\n",
      " [-0.43663159 -1.57860801]\n",
      " [-0.55562764 -1.58052117]\n",
      " [-0.23632661 -0.74333814]\n",
      " [ 0.67181292 -0.67662237]\n",
      " [-0.15903636 -0.15449152]\n",
      " [ 0.16620978  1.03026439]\n",
      " [ 0.75226652  0.54226367]\n",
      " [ 0.53027334 -1.54185041]\n",
      " [-0.33633663 -0.08521322]\n",
      " [-0.23902877 -1.33214428]\n",
      " [-0.21268238 -1.09844077]\n",
      " [ 0.26870615  0.08682414]\n",
      " [-0.15879097 -0.9873797 ]\n",
      " [-1.00128507 -1.99328278]\n",
      " [-0.1780224  -0.8145296 ]\n",
      " [-0.31354772 -0.05478652]\n",
      " [-0.19130872 -0.29410662]\n",
      " [ 0.18329896 -0.11976997]\n",
      " [-1.04416073 -1.46533004]\n",
      " [-0.18806577 -0.53533988]\n",
      " [ 1.70291846  0.901865  ]\n",
      " [ 0.78237751 -0.73696676]\n",
      " [ 1.9994793   0.44327297]\n",
      " [ 1.14294229 -0.0862892 ]\n",
      " [ 1.63922906  0.23710547]\n",
      " [ 2.59696506  0.60918472]\n",
      " [-0.1308518  -1.53678475]\n",
      " [ 2.07788939  0.25536335]\n",
      " [ 1.64876123 -0.9190545 ]\n",
      " [ 2.22632733  1.94470652]\n",
      " [ 1.13472662  0.72557471]\n",
      " [ 1.26162381 -0.5288861 ]\n",
      " [ 1.64841711  0.34344508]\n",
      " [ 0.84036719 -1.25266828]\n",
      " [ 1.15123676 -0.47774281]\n",
      " [ 1.38707617  0.69757018]\n",
      " [ 1.20039118  0.22804868]\n",
      " [ 2.46033903  2.58734532]\n",
      " [ 3.10115297 -0.32379458]\n",
      " [ 0.75476334 -1.89172258]\n",
      " [ 1.8731229   0.86769438]\n",
      " [ 0.6145607  -0.55850007]\n",
      " [ 2.70053256  0.15433661]\n",
      " [ 0.96369644 -0.56173498]\n",
      " [ 1.53404965  1.03340085]\n",
      " [ 1.7777902   0.95233987]\n",
      " [ 0.81866854 -0.35284158]\n",
      " [ 0.70754403  0.09588093]\n",
      " [ 1.49637297 -0.28382652]\n",
      " [ 1.62057668  0.46323873]\n",
      " [ 2.19332796  0.05399971]\n",
      " [ 2.32018511  2.65521946]\n",
      " [ 1.57822268 -0.28050921]\n",
      " [ 0.75205072 -0.33185779]\n",
      " [ 0.8017268  -0.89776699]\n",
      " [ 2.64242501  0.65798825]\n",
      " [ 1.43209407  1.1468017 ]\n",
      " [ 1.09250962  0.43553793]\n",
      " [ 0.60290541  0.06213692]\n",
      " [ 1.63837373  0.6226348 ]\n",
      " [ 1.82323102  0.55948211]\n",
      " [ 1.69063411  0.63348187]\n",
      " [ 0.78237751 -0.73696676]\n",
      " [ 1.87992332  0.82973792]\n",
      " [ 1.86144849  1.04667009]\n",
      " [ 1.63318521  0.31914399]\n",
      " [ 1.16347109 -1.04509663]\n",
      " [ 1.25265156  0.23889574]\n",
      " [ 1.2084594   1.11114453]\n",
      " [ 0.64685219  0.02277631]]\n"
     ]
    },
    {
     "data": {
      "text/plain": [
       "array([-3.30547862,  1.02616785])"
      ]
     },
     "execution_count": 48,
     "metadata": {},
     "output_type": "execute_result"
    }
   ],
   "source": [
    "X_pca = X.dot(projection_matrix)\n",
    "print(X_pca)\n"
   ]
  },
  {
   "cell_type": "code",
   "execution_count": 49,
   "metadata": {},
   "outputs": [
    {
     "data": {
      "text/plain": [
       "array(['Iris-setosa', 'Iris-versicolor', 'Iris-virginica'], dtype=object)"
      ]
     },
     "execution_count": 49,
     "metadata": {},
     "output_type": "execute_result"
    }
   ],
   "source": [
    "data['species'].unique()"
   ]
  },
  {
   "cell_type": "code",
   "execution_count": 51,
   "metadata": {},
   "outputs": [
    {
     "name": "stderr",
     "output_type": "stream",
     "text": [
      "/home/chris/.local/lib/python3.8/site-packages/seaborn/_decorators.py:36: FutureWarning: Pass the following variables as keyword args: x, y. From version 0.12, the only valid positional argument will be `data`, and passing other arguments without an explicit keyword will result in an error or misinterpretation.\n",
      "  warnings.warn(\n",
      "/home/chris/.local/lib/python3.8/site-packages/seaborn/_decorators.py:36: FutureWarning: Pass the following variables as keyword args: x, y. From version 0.12, the only valid positional argument will be `data`, and passing other arguments without an explicit keyword will result in an error or misinterpretation.\n",
      "  warnings.warn(\n",
      "/home/chris/.local/lib/python3.8/site-packages/seaborn/_decorators.py:36: FutureWarning: Pass the following variables as keyword args: x, y. From version 0.12, the only valid positional argument will be `data`, and passing other arguments without an explicit keyword will result in an error or misinterpretation.\n",
      "  warnings.warn(\n"
     ]
    },
    {
     "data": {
      "image/png": "[encoded data removed]",
      "text/plain": [
       "<Figure size 864x576 with 1 Axes>"
      ]
     },
     "metadata": {},
     "output_type": "display_data"
    }
   ],
   "source": [
    "for species in data['species'].unique():\n",
    "    sns.scatterplot(X_pca[y==species, 0],\n",
    "                   X_pca[y==species, 1]\n",
    "                   )"
   ]
  },
  {
   "cell_type": "code",
   "execution_count": 53,
   "metadata": {},
   "outputs": [
    {
     "ename": "KeyError",
     "evalue": "\"['Species'] not found in axis\"",
     "output_type": "error",
     "traceback": [
      "\u001b[0;31m---------------------------------------------------------------------------\u001b[0m",
      "\u001b[0;31mKeyError\u001b[0m                                  Traceback (most recent call last)",
      "\u001b[0;32m<ipython-input-53-60414287741b>\u001b[0m in \u001b[0;36m<module>\u001b[0;34m\u001b[0m\n\u001b[1;32m      5\u001b[0m }\n\u001b[1;32m      6\u001b[0m \u001b[0;34m\u001b[0m\u001b[0m\n\u001b[0;32m----> 7\u001b[0;31m \u001b[0mX\u001b[0m \u001b[0;34m=\u001b[0m \u001b[0mdata\u001b[0m\u001b[0;34m.\u001b[0m\u001b[0mdrop\u001b[0m\u001b[0;34m(\u001b[0m\u001b[0;34m[\u001b[0m\u001b[0;34m'Species'\u001b[0m\u001b[0;34m]\u001b[0m\u001b[0;34m,\u001b[0m \u001b[0maxis\u001b[0m\u001b[0;34m=\u001b[0m\u001b[0;36m1\u001b[0m\u001b[0;34m)\u001b[0m\u001b[0;34m.\u001b[0m\u001b[0mvalues\u001b[0m \u001b[0;31m# Input Feature Values\u001b[0m\u001b[0;34m\u001b[0m\u001b[0;34m\u001b[0m\u001b[0m\n\u001b[0m\u001b[1;32m      8\u001b[0m \u001b[0my\u001b[0m \u001b[0;34m=\u001b[0m \u001b[0mdata\u001b[0m\u001b[0;34m.\u001b[0m\u001b[0mSpecies\u001b[0m\u001b[0;34m.\u001b[0m\u001b[0mreplace\u001b[0m\u001b[0;34m(\u001b[0m\u001b[0mmapping\u001b[0m\u001b[0;34m)\u001b[0m\u001b[0;34m.\u001b[0m\u001b[0mvalues\u001b[0m\u001b[0;34m.\u001b[0m\u001b[0mreshape\u001b[0m\u001b[0;34m(\u001b[0m\u001b[0mrows\u001b[0m\u001b[0;34m,\u001b[0m\u001b[0;36m1\u001b[0m\u001b[0;34m)\u001b[0m \u001b[0;31m# Output values\u001b[0m\u001b[0;34m\u001b[0m\u001b[0;34m\u001b[0m\u001b[0m\n\u001b[1;32m      9\u001b[0m \u001b[0;34m\u001b[0m\u001b[0m\n",
      "\u001b[0;32m~/.local/lib/python3.8/site-packages/pandas/core/frame.py\u001b[0m in \u001b[0;36mdrop\u001b[0;34m(self, labels, axis, index, columns, level, inplace, errors)\u001b[0m\n\u001b[1;32m   4165\u001b[0m                 \u001b[0mweight\u001b[0m  \u001b[0;36m1.0\u001b[0m     \u001b[0;36m0.8\u001b[0m\u001b[0;34m\u001b[0m\u001b[0;34m\u001b[0m\u001b[0m\n\u001b[1;32m   4166\u001b[0m         \"\"\"\n\u001b[0;32m-> 4167\u001b[0;31m         return super().drop(\n\u001b[0m\u001b[1;32m   4168\u001b[0m             \u001b[0mlabels\u001b[0m\u001b[0;34m=\u001b[0m\u001b[0mlabels\u001b[0m\u001b[0;34m,\u001b[0m\u001b[0;34m\u001b[0m\u001b[0;34m\u001b[0m\u001b[0m\n\u001b[1;32m   4169\u001b[0m             \u001b[0maxis\u001b[0m\u001b[0;34m=\u001b[0m\u001b[0maxis\u001b[0m\u001b[0;34m,\u001b[0m\u001b[0;34m\u001b[0m\u001b[0;34m\u001b[0m\u001b[0m\n",
      "\u001b[0;32m~/.local/lib/python3.8/site-packages/pandas/core/generic.py\u001b[0m in \u001b[0;36mdrop\u001b[0;34m(self, labels, axis, index, columns, level, inplace, errors)\u001b[0m\n\u001b[1;32m   3885\u001b[0m         \u001b[0;32mfor\u001b[0m \u001b[0maxis\u001b[0m\u001b[0;34m,\u001b[0m \u001b[0mlabels\u001b[0m \u001b[0;32min\u001b[0m \u001b[0maxes\u001b[0m\u001b[0;34m.\u001b[0m\u001b[0mitems\u001b[0m\u001b[0;34m(\u001b[0m\u001b[0;34m)\u001b[0m\u001b[0;34m:\u001b[0m\u001b[0;34m\u001b[0m\u001b[0;34m\u001b[0m\u001b[0m\n\u001b[1;32m   3886\u001b[0m             \u001b[0;32mif\u001b[0m \u001b[0mlabels\u001b[0m \u001b[0;32mis\u001b[0m \u001b[0;32mnot\u001b[0m \u001b[0;32mNone\u001b[0m\u001b[0;34m:\u001b[0m\u001b[0;34m\u001b[0m\u001b[0;34m\u001b[0m\u001b[0m\n\u001b[0;32m-> 3887\u001b[0;31m                 \u001b[0mobj\u001b[0m \u001b[0;34m=\u001b[0m \u001b[0mobj\u001b[0m\u001b[0;34m.\u001b[0m\u001b[0m_drop_axis\u001b[0m\u001b[0;34m(\u001b[0m\u001b[0mlabels\u001b[0m\u001b[0;34m,\u001b[0m \u001b[0maxis\u001b[0m\u001b[0;34m,\u001b[0m \u001b[0mlevel\u001b[0m\u001b[0;34m=\u001b[0m\u001b[0mlevel\u001b[0m\u001b[0;34m,\u001b[0m \u001b[0merrors\u001b[0m\u001b[0;34m=\u001b[0m\u001b[0merrors\u001b[0m\u001b[0;34m)\u001b[0m\u001b[0;34m\u001b[0m\u001b[0;34m\u001b[0m\u001b[0m\n\u001b[0m\u001b[1;32m   3888\u001b[0m \u001b[0;34m\u001b[0m\u001b[0m\n\u001b[1;32m   3889\u001b[0m         \u001b[0;32mif\u001b[0m \u001b[0minplace\u001b[0m\u001b[0;34m:\u001b[0m\u001b[0;34m\u001b[0m\u001b[0;34m\u001b[0m\u001b[0m\n",
      "\u001b[0;32m~/.local/lib/python3.8/site-packages/pandas/core/generic.py\u001b[0m in \u001b[0;36m_drop_axis\u001b[0;34m(self, labels, axis, level, errors)\u001b[0m\n\u001b[1;32m   3919\u001b[0m                 \u001b[0mnew_axis\u001b[0m \u001b[0;34m=\u001b[0m \u001b[0maxis\u001b[0m\u001b[0;34m.\u001b[0m\u001b[0mdrop\u001b[0m\u001b[0;34m(\u001b[0m\u001b[0mlabels\u001b[0m\u001b[0;34m,\u001b[0m \u001b[0mlevel\u001b[0m\u001b[0;34m=\u001b[0m\u001b[0mlevel\u001b[0m\u001b[0;34m,\u001b[0m \u001b[0merrors\u001b[0m\u001b[0;34m=\u001b[0m\u001b[0merrors\u001b[0m\u001b[0;34m)\u001b[0m\u001b[0;34m\u001b[0m\u001b[0;34m\u001b[0m\u001b[0m\n\u001b[1;32m   3920\u001b[0m             \u001b[0;32melse\u001b[0m\u001b[0;34m:\u001b[0m\u001b[0;34m\u001b[0m\u001b[0;34m\u001b[0m\u001b[0m\n\u001b[0;32m-> 3921\u001b[0;31m                 \u001b[0mnew_axis\u001b[0m \u001b[0;34m=\u001b[0m \u001b[0maxis\u001b[0m\u001b[0;34m.\u001b[0m\u001b[0mdrop\u001b[0m\u001b[0;34m(\u001b[0m\u001b[0mlabels\u001b[0m\u001b[0;34m,\u001b[0m \u001b[0merrors\u001b[0m\u001b[0;34m=\u001b[0m\u001b[0merrors\u001b[0m\u001b[0;34m)\u001b[0m\u001b[0;34m\u001b[0m\u001b[0;34m\u001b[0m\u001b[0m\n\u001b[0m\u001b[1;32m   3922\u001b[0m             \u001b[0mresult\u001b[0m \u001b[0;34m=\u001b[0m \u001b[0mself\u001b[0m\u001b[0;34m.\u001b[0m\u001b[0mreindex\u001b[0m\u001b[0;34m(\u001b[0m\u001b[0;34m**\u001b[0m\u001b[0;34m{\u001b[0m\u001b[0maxis_name\u001b[0m\u001b[0;34m:\u001b[0m \u001b[0mnew_axis\u001b[0m\u001b[0;34m}\u001b[0m\u001b[0;34m)\u001b[0m\u001b[0;34m\u001b[0m\u001b[0;34m\u001b[0m\u001b[0m\n\u001b[1;32m   3923\u001b[0m \u001b[0;34m\u001b[0m\u001b[0m\n",
      "\u001b[0;32m~/.local/lib/python3.8/site-packages/pandas/core/indexes/base.py\u001b[0m in \u001b[0;36mdrop\u001b[0;34m(self, labels, errors)\u001b[0m\n\u001b[1;32m   5282\u001b[0m         \u001b[0;32mif\u001b[0m \u001b[0mmask\u001b[0m\u001b[0;34m.\u001b[0m\u001b[0many\u001b[0m\u001b[0;34m(\u001b[0m\u001b[0;34m)\u001b[0m\u001b[0;34m:\u001b[0m\u001b[0;34m\u001b[0m\u001b[0;34m\u001b[0m\u001b[0m\n\u001b[1;32m   5283\u001b[0m             \u001b[0;32mif\u001b[0m \u001b[0merrors\u001b[0m \u001b[0;34m!=\u001b[0m \u001b[0;34m\"ignore\"\u001b[0m\u001b[0;34m:\u001b[0m\u001b[0;34m\u001b[0m\u001b[0;34m\u001b[0m\u001b[0m\n\u001b[0;32m-> 5284\u001b[0;31m                 \u001b[0;32mraise\u001b[0m \u001b[0mKeyError\u001b[0m\u001b[0;34m(\u001b[0m\u001b[0;34mf\"{labels[mask]} not found in axis\"\u001b[0m\u001b[0;34m)\u001b[0m\u001b[0;34m\u001b[0m\u001b[0;34m\u001b[0m\u001b[0m\n\u001b[0m\u001b[1;32m   5285\u001b[0m             \u001b[0mindexer\u001b[0m \u001b[0;34m=\u001b[0m \u001b[0mindexer\u001b[0m\u001b[0;34m[\u001b[0m\u001b[0;34m~\u001b[0m\u001b[0mmask\u001b[0m\u001b[0;34m]\u001b[0m\u001b[0;34m\u001b[0m\u001b[0;34m\u001b[0m\u001b[0m\n\u001b[1;32m   5286\u001b[0m         \u001b[0;32mreturn\u001b[0m \u001b[0mself\u001b[0m\u001b[0;34m.\u001b[0m\u001b[0mdelete\u001b[0m\u001b[0;34m(\u001b[0m\u001b[0mindexer\u001b[0m\u001b[0;34m)\u001b[0m\u001b[0;34m\u001b[0m\u001b[0;34m\u001b[0m\u001b[0m\n",
      "\u001b[0;31mKeyError\u001b[0m: \"['Species'] not found in axis\""
     ]
    }
   ],
   "source": [
    "mapping = {\n",
    "    'Iris-setosa' : 1,\n",
    "    'Iris-versicolor' : 2,\n",
    "    'Iriss-virginica' : 3\n",
    "}\n",
    "\n",
    "X = data.drop(['Species'], axis=1).values # Input Feature Values\n",
    "y = data.Species.replace(mapping).values.reshape(rows,1) # Output values\n",
    "\n",
    "X = np.hstack(((np.ones((rows,1))), X))# Adding one more column for bias"
   ]
  },
  {
   "cell_type": "code",
   "execution_count": null,
   "metadata": {},
   "outputs": [],
   "source": []
  }
 ],
 "metadata": {
  "kernelspec": {
   "display_name": "Python 3",
   "language": "python",
   "name": "python3"
  },
  "language_info": {
   "codemirror_mode": {
    "name": "ipython",
    "version": 3
   },
   "file_extension": ".py",
   "mimetype": "text/x-python",
   "name": "python",
   "nbconvert_exporter": "python",
   "pygments_lexer": "ipython3",
   "version": "3.8.2"
  }
 },
 "nbformat": 4,
 "nbformat_minor": 4
}
